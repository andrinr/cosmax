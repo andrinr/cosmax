{
 "cells": [
  {
   "cell_type": "code",
   "execution_count": 7,
   "metadata": {},
   "outputs": [],
   "source": [
    "import cosmax\n",
    "import jax.numpy as jnp\n",
    "import matplotlib.pyplot as plt"
   ]
  },
  {
   "cell_type": "code",
   "execution_count": null,
   "metadata": {},
   "outputs": [
    {
     "name": "stderr",
     "output_type": "stream",
     "text": [
      "An NVIDIA GPU may be present on this machine, but a CUDA-enabled jaxlib is not installed. Falling back to cpu.\n"
     ]
    }
   ],
   "source": [
    "# load binary files\n",
    "file = '../data/z49.bin'\n",
    "\n",
    "# open file\n",
    "with open(file, 'rb') as f:\n",
    "    # read data\n",
    "    data = f.read()\n",
    "    # convert to numpy array\n",
    "    data = jnp.frombuffer(data, dtype=jnp.float32)\n",
    "\n",
    "# reshape data"
   ]
  },
  {
   "cell_type": "code",
   "execution_count": null,
   "metadata": {},
   "outputs": [
    {
     "ename": "TypeError",
     "evalue": "PowerSpectrum.__init__() missing 2 required positional arguments: 'n_grid' and 'n_bins'",
     "output_type": "error",
     "traceback": [
      "\u001b[0;31m---------------------------------------------------------------------------\u001b[0m",
      "\u001b[0;31mTypeError\u001b[0m                                 Traceback (most recent call last)",
      "Cell \u001b[0;32mIn[4], line 1\u001b[0m\n\u001b[0;32m----> 1\u001b[0m power_spectrum \u001b[38;5;241m=\u001b[39m \u001b[43mcosmax\u001b[49m\u001b[38;5;241;43m.\u001b[39;49m\u001b[43mspectral_ops\u001b[49m\u001b[38;5;241;43m.\u001b[39;49m\u001b[43mPowerSpectrum\u001b[49m\u001b[43m(\u001b[49m\u001b[43m)\u001b[49m\n",
      "\u001b[0;31mTypeError\u001b[0m: PowerSpectrum.__init__() missing 2 required positional arguments: 'n_grid' and 'n_bins'"
     ]
    }
   ],
   "source": [
    "power_spectrum = cosmax.spectral_ops.PowerSpectrum("
   ]
  },
  {
   "cell_type": "code",
   "execution_count": null,
   "metadata": {},
   "outputs": [],
   "source": []
  }
 ],
 "metadata": {
  "kernelspec": {
   "display_name": "cosmax-test",
   "language": "python",
   "name": "python3"
  },
  "language_info": {
   "codemirror_mode": {
    "name": "ipython",
    "version": 3
   },
   "file_extension": ".py",
   "mimetype": "text/x-python",
   "name": "python",
   "nbconvert_exporter": "python",
   "pygments_lexer": "ipython3",
   "version": "3.13.0"
  }
 },
 "nbformat": 4,
 "nbformat_minor": 2
}
